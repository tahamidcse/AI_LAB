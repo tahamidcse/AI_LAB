{
  "nbformat": 4,
  "nbformat_minor": 0,
  "metadata": {
    "colab": {
      "provenance": [],
      "gpuType": "T4",
      "include_colab_link": true
    },
    "kernelspec": {
      "name": "python3",
      "display_name": "Python 3"
    },
    "language_info": {
      "name": "python"
    },
    "accelerator": "GPU"
  },
  "cells": [
    {
      "cell_type": "markdown",
      "metadata": {
        "id": "view-in-github",
        "colab_type": "text"
      },
      "source": [
        "<a href=\"https://colab.research.google.com/github/tahamidcse/AI_LAB/blob/main/fcnn_mnist2.ipynb\" target=\"_parent\"><img src=\"https://colab.research.google.com/assets/colab-badge.svg\" alt=\"Open In Colab\"/></a>"
      ]
    },
    {
      "cell_type": "code",
      "source": [
        "from tensorflow.keras.datasets.mnist import load_data\n",
        "import matplotlib.pyplot as plt\n",
        "import numpy as np\n",
        "from tensorflow.keras.utils import to_categorical\n",
        "from tensorflow.keras.layers import Input, Flatten, Dense\n",
        "from tensorflow.keras.models import Model\n",
        "import cv2\n",
        "\n",
        "# Path to your custom image\n",
        "\n",
        "# --- Build model\n",
        "inputs = Input((28, 28, 1), name='Input Layer')\n",
        "h1 = Flatten()(inputs)\n",
        "h2 = Dense(32, activation='relu', name='h2')(h1)\n",
        "h3 = Dense(64, activation='relu', name='h3')(h2)\n",
        "h4 = Dense(128, activation='relu', name='h4')(h3)\n",
        "outputs = Dense(10, activation='softmax', name='output_layer')(h4)\n",
        "\n",
        "model = Model(inputs, outputs)\n",
        "model.compile(optimizer='adam', loss='categorical_crossentropy', metrics=['accuracy'])\n",
        "\n",
        "# Train\n",
        "\n",
        "\n",
        "# --- Load MNIST data\n",
        "(trainX, trainY), (testX, testY) = load_data()\n",
        "\n",
        "# Normalize and reshape\n",
        "trainX = trainX.astype(\"float32\") / 255.0\n",
        "testX = testX.astype(\"float32\") / 255.0\n",
        "trainX = trainX.reshape(-1, 28, 28, 1)\n",
        "testX = testX.reshape(-1, 28, 28, 1)\n",
        "trainY = to_categorical(trainY, 10)\n",
        "testY = to_categorical(testY, 10)\n",
        "model.fit(trainX, trainY, epochs=5, batch_size=32, validation_split=0.2)\n",
        "\n",
        "# Evaluate on MNIST test set\n",
        "test_loss, test_acc = model.evaluate(testX, testY)\n",
        "print(f\"FCNN test accuracy: {test_acc:.4f}, Test Loss: {test_loss:.4f}\")\n"
      ],
      "metadata": {
        "colab": {
          "base_uri": "https://localhost:8080/"
        },
        "id": "D0waAsCEIQkk",
        "outputId": "1e9e2d67-a163-4fee-f703-2e5bf3b3943d"
      },
      "execution_count": 19,
      "outputs": [
        {
          "output_type": "stream",
          "name": "stdout",
          "text": [
            "Epoch 1/5\n",
            "\u001b[1m1500/1500\u001b[0m \u001b[32m━━━━━━━━━━━━━━━━━━━━\u001b[0m\u001b[37m\u001b[0m \u001b[1m8s\u001b[0m 4ms/step - accuracy: 0.8228 - loss: 0.5928 - val_accuracy: 0.9500 - val_loss: 0.1708\n",
            "Epoch 2/5\n",
            "\u001b[1m1500/1500\u001b[0m \u001b[32m━━━━━━━━━━━━━━━━━━━━\u001b[0m\u001b[37m\u001b[0m \u001b[1m6s\u001b[0m 4ms/step - accuracy: 0.9521 - loss: 0.1557 - val_accuracy: 0.9559 - val_loss: 0.1592\n",
            "Epoch 3/5\n",
            "\u001b[1m1500/1500\u001b[0m \u001b[32m━━━━━━━━━━━━━━━━━━━━\u001b[0m\u001b[37m\u001b[0m \u001b[1m7s\u001b[0m 4ms/step - accuracy: 0.9649 - loss: 0.1146 - val_accuracy: 0.9629 - val_loss: 0.1276\n",
            "Epoch 4/5\n",
            "\u001b[1m1500/1500\u001b[0m \u001b[32m━━━━━━━━━━━━━━━━━━━━\u001b[0m\u001b[37m\u001b[0m \u001b[1m6s\u001b[0m 4ms/step - accuracy: 0.9718 - loss: 0.0937 - val_accuracy: 0.9668 - val_loss: 0.1217\n",
            "Epoch 5/5\n",
            "\u001b[1m1500/1500\u001b[0m \u001b[32m━━━━━━━━━━━━━━━━━━━━\u001b[0m\u001b[37m\u001b[0m \u001b[1m6s\u001b[0m 4ms/step - accuracy: 0.9757 - loss: 0.0797 - val_accuracy: 0.9643 - val_loss: 0.1319\n",
            "\u001b[1m313/313\u001b[0m \u001b[32m━━━━━━━━━━━━━━━━━━━━\u001b[0m\u001b[37m\u001b[0m \u001b[1m1s\u001b[0m 2ms/step - accuracy: 0.9577 - loss: 0.1533\n",
            "FCNN test accuracy: 0.9631, Test Loss: 0.1269\n"
          ]
        }
      ]
    },
    {
      "cell_type": "code",
      "source": [
        "\n",
        "img_path = '/content/sample_data/sample_image(1).png'\n",
        "# --- Load and preprocess your custom image\n",
        "img = cv2.imread(img_path, cv2.IMREAD_GRAYSCALE)   # Load grayscale\n",
        "img = cv2.resize(img, (28, 28))                   # Ensure 28x28\n",
        "img = img.astype(\"float32\") / 255.0               # Normalize\n",
        "img = np.expand_dims(img, axis=-1)                # Add channel dim\n",
        "img = np.expand_dims(img, axis=0)                 # Add batch dim\n",
        "\n",
        "# Predict\n",
        "prediction = model.predict(img)\n",
        "predicted_class = np.argmax(prediction)\n",
        "\n",
        "print(f\"Predicted class for custom image: {predicted_class}\")\n",
        "\n",
        "# Show image\n",
        "plt.imshow(img[0, :, :, 0], cmap='gray')\n",
        "plt.title(f\"Predicted: {predicted_class}\")\n",
        "plt.show()\n"
      ],
      "metadata": {
        "id": "P2oB63uZvb5g",
        "colab": {
          "base_uri": "https://localhost:8080/",
          "height": 488
        },
        "outputId": "c69ef057-656b-4e84-8f71-96f463206e94"
      },
      "execution_count": 22,
      "outputs": [
        {
          "output_type": "stream",
          "name": "stdout",
          "text": [
            "\u001b[1m1/1\u001b[0m \u001b[32m━━━━━━━━━━━━━━━━━━━━\u001b[0m\u001b[37m\u001b[0m \u001b[1m0s\u001b[0m 47ms/step\n",
            "Predicted class for custom image: 7\n"
          ]
        },
        {
          "output_type": "display_data",
          "data": {
            "text/plain": [
              "<Figure size 640x480 with 1 Axes>"
            ],
            "image/png": "[encoded data removed]"
          },
          "metadata": {}
        }
      ]
    }
  ]
}